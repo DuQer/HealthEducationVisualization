{
 "cells": [
  {
   "cell_type": "code",
   "execution_count": 16,
   "metadata": {
    "collapsed": true
   },
   "outputs": [],
   "source": [
    "import pandas as pd"
   ]
  },
  {
   "cell_type": "code",
   "execution_count": 17,
   "outputs": [],
   "source": [
    "file_paths = ['./csv/education/australia.csv', './csv/education/finland.csv', './csv/education/france.csv',\n",
    "              './csv/education/italy.csv', './csv/education/japan.csv', './csv/education/korea.csv',\n",
    "              './csv/education/netherlands.csv', './csv/education/poland.csv', './csv/education/singapore.csv',\n",
    "              './csv/education/switerland.csv']"
   ],
   "metadata": {
    "collapsed": false
   }
  },
  {
   "cell_type": "code",
   "execution_count": 18,
   "outputs": [],
   "source": [
    "def read_and_transform_csv(file_paths):\n",
    "    list_of_dataframes = {}\n",
    "    for path in file_paths:\n",
    "        name = path.split('/')[-1].split('.')[0]\n",
    "        df = pd.read_csv(path)\n",
    "\n",
    "        df['Year'] = pd.to_numeric(df['Year'], errors='coerce')\n",
    "        df['Value'].fillna(0, inplace=True)\n",
    "        df['Value'] = pd.to_numeric(df['Value'], errors='coerce')\n",
    "        df['Year'] = pd.to_datetime(df['Year'], format='%Y', errors='coerce')\n",
    "\n",
    "        df.dropna(inplace=True)\n",
    "        df.reset_index(drop=True, inplace=True)\n",
    "        list_of_dataframes[name] = df\n",
    "    return list_of_dataframes\n",
    "\n",
    "lista = read_and_transform_csv(file_paths)"
   ],
   "metadata": {
    "collapsed": false
   }
  },
  {
   "cell_type": "code",
   "execution_count": 15,
   "outputs": [
    {
     "data": {
      "text/plain": "  Country Name Country ISO3       Year  \\\n0    Australia          AUS 2010-01-01   \n1    Australia          AUS 2005-01-01   \n2    Australia          AUS 2000-01-01   \n3    Australia          AUS 1995-01-01   \n4    Australia          AUS 1990-01-01   \n\n                                      Indicator Name       Indicator Code  \\\n0  Barro-Lee: Percentage of female population age...  BAR.NOED.1519.FE.ZS   \n1  Barro-Lee: Percentage of female population age...  BAR.NOED.1519.FE.ZS   \n2  Barro-Lee: Percentage of female population age...  BAR.NOED.1519.FE.ZS   \n3  Barro-Lee: Percentage of female population age...  BAR.NOED.1519.FE.ZS   \n4  Barro-Lee: Percentage of female population age...  BAR.NOED.1519.FE.ZS   \n\n   Value  \n0   0.10  \n1   0.10  \n2   0.21  \n3   2.10  \n4   0.10  ",
      "text/html": "<div>\n<style scoped>\n    .dataframe tbody tr th:only-of-type {\n        vertical-align: middle;\n    }\n\n    .dataframe tbody tr th {\n        vertical-align: top;\n    }\n\n    .dataframe thead th {\n        text-align: right;\n    }\n</style>\n<table border=\"1\" class=\"dataframe\">\n  <thead>\n    <tr style=\"text-align: right;\">\n      <th></th>\n      <th>Country Name</th>\n      <th>Country ISO3</th>\n      <th>Year</th>\n      <th>Indicator Name</th>\n      <th>Indicator Code</th>\n      <th>Value</th>\n    </tr>\n  </thead>\n  <tbody>\n    <tr>\n      <th>0</th>\n      <td>Australia</td>\n      <td>AUS</td>\n      <td>2010-01-01</td>\n      <td>Barro-Lee: Percentage of female population age...</td>\n      <td>BAR.NOED.1519.FE.ZS</td>\n      <td>0.10</td>\n    </tr>\n    <tr>\n      <th>1</th>\n      <td>Australia</td>\n      <td>AUS</td>\n      <td>2005-01-01</td>\n      <td>Barro-Lee: Percentage of female population age...</td>\n      <td>BAR.NOED.1519.FE.ZS</td>\n      <td>0.10</td>\n    </tr>\n    <tr>\n      <th>2</th>\n      <td>Australia</td>\n      <td>AUS</td>\n      <td>2000-01-01</td>\n      <td>Barro-Lee: Percentage of female population age...</td>\n      <td>BAR.NOED.1519.FE.ZS</td>\n      <td>0.21</td>\n    </tr>\n    <tr>\n      <th>3</th>\n      <td>Australia</td>\n      <td>AUS</td>\n      <td>1995-01-01</td>\n      <td>Barro-Lee: Percentage of female population age...</td>\n      <td>BAR.NOED.1519.FE.ZS</td>\n      <td>2.10</td>\n    </tr>\n    <tr>\n      <th>4</th>\n      <td>Australia</td>\n      <td>AUS</td>\n      <td>1990-01-01</td>\n      <td>Barro-Lee: Percentage of female population age...</td>\n      <td>BAR.NOED.1519.FE.ZS</td>\n      <td>0.10</td>\n    </tr>\n  </tbody>\n</table>\n</div>"
     },
     "execution_count": 15,
     "metadata": {},
     "output_type": "execute_result"
    }
   ],
   "source": [],
   "metadata": {
    "collapsed": false
   }
  },
  {
   "cell_type": "code",
   "execution_count": 10,
   "outputs": [
    {
     "data": {
      "text/plain": "0        2010\n1        2005\n2        2000\n3        1995\n4        1990\n         ... \n13634    1964\n13635    1963\n13636    1962\n13637    1961\n13638    1960\nName: Year, Length: 13639, dtype: int32"
     },
     "execution_count": 10,
     "metadata": {},
     "output_type": "execute_result"
    }
   ],
   "source": [],
   "metadata": {
    "collapsed": false
   }
  },
  {
   "cell_type": "code",
   "execution_count": null,
   "outputs": [],
   "source": [],
   "metadata": {
    "collapsed": false
   }
  }
 ],
 "metadata": {
  "kernelspec": {
   "display_name": "Python 3",
   "language": "python",
   "name": "python3"
  },
  "language_info": {
   "codemirror_mode": {
    "name": "ipython",
    "version": 2
   },
   "file_extension": ".py",
   "mimetype": "text/x-python",
   "name": "python",
   "nbconvert_exporter": "python",
   "pygments_lexer": "ipython2",
   "version": "2.7.6"
  }
 },
 "nbformat": 4,
 "nbformat_minor": 0
}
