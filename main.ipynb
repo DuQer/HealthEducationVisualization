{
 "cells": [
  {
   "cell_type": "code",
   "execution_count": 17,
   "metadata": {
    "collapsed": true
   },
   "outputs": [],
   "source": [
    "import pandas as pd\n",
    "import matplotlib.pyplot as plt\n",
    "import seaborn as sns"
   ]
  },
  {
   "cell_type": "code",
   "execution_count": 18,
   "outputs": [],
   "source": [
    "education_file_paths = ['./csv/education/australia.csv', './csv/education/finland.csv', './csv/education/france.csv',\n",
    "              './csv/education/italy.csv', './csv/education/japan.csv', './csv/education/korea.csv',\n",
    "              './csv/education/netherlands.csv', './csv/education/poland.csv', './csv/education/singapore.csv',\n",
    "              './csv/education/switerland.csv']\n",
    "\n"
   ],
   "metadata": {
    "collapsed": false
   }
  },
  {
   "cell_type": "code",
   "execution_count": 19,
   "outputs": [],
   "source": [
    "def read_and_transform_csv(education_file_paths):\n",
    "    list_of_dataframes = {}\n",
    "    for path in education_file_paths:\n",
    "        name = path.split('/')[-1].split('.')[0]\n",
    "        df = pd.read_csv(path)\n",
    "\n",
    "        df['Year'] = pd.to_numeric(df['Year'], errors='coerce')\n",
    "        df['Value'].fillna(0, inplace=True)\n",
    "        df['Value'] = pd.to_numeric(df['Value'], errors='coerce')\n",
    "        df['Year'] = pd.to_datetime(df['Year'], format='%Y', errors='coerce')\n",
    "\n",
    "        df.dropna(inplace=True)\n",
    "        df.reset_index(drop=True, inplace=True)\n",
    "        list_of_dataframes[name] = df\n",
    "    return list_of_dataframes\n",
    "\n",
    "lista = read_and_transform_csv(education_file_paths)"
   ],
   "metadata": {
    "collapsed": false
   }
  },
  {
   "cell_type": "code",
   "execution_count": 24,
   "outputs": [
    {
     "name": "stderr",
     "output_type": "stream",
     "text": [
      "C:\\Users\\DuQer\\AppData\\Local\\Temp\\ipykernel_17332\\520319398.py:5: DtypeWarning: Columns (13,14,20,21,29,30,33) have mixed types. Specify dtype option on import or set low_memory=False.\n",
      "  df = pd.read_csv(path)\n"
     ]
    },
    {
     "ename": "KeyError",
     "evalue": "'Year'",
     "output_type": "error",
     "traceback": [
      "\u001B[1;31m---------------------------------------------------------------------------\u001B[0m",
      "\u001B[1;31mKeyError\u001B[0m                                  Traceback (most recent call last)",
      "File \u001B[1;32m~\\.virtualenvs\\Health_EducationVisualization-jcyNnY_w\\Lib\\site-packages\\pandas\\core\\indexes\\base.py:3790\u001B[0m, in \u001B[0;36mIndex.get_loc\u001B[1;34m(self, key)\u001B[0m\n\u001B[0;32m   3789\u001B[0m \u001B[38;5;28;01mtry\u001B[39;00m:\n\u001B[1;32m-> 3790\u001B[0m     \u001B[38;5;28;01mreturn\u001B[39;00m \u001B[38;5;28;43mself\u001B[39;49m\u001B[38;5;241;43m.\u001B[39;49m\u001B[43m_engine\u001B[49m\u001B[38;5;241;43m.\u001B[39;49m\u001B[43mget_loc\u001B[49m\u001B[43m(\u001B[49m\u001B[43mcasted_key\u001B[49m\u001B[43m)\u001B[49m\n\u001B[0;32m   3791\u001B[0m \u001B[38;5;28;01mexcept\u001B[39;00m \u001B[38;5;167;01mKeyError\u001B[39;00m \u001B[38;5;28;01mas\u001B[39;00m err:\n",
      "File \u001B[1;32mindex.pyx:152\u001B[0m, in \u001B[0;36mpandas._libs.index.IndexEngine.get_loc\u001B[1;34m()\u001B[0m\n",
      "File \u001B[1;32mindex.pyx:181\u001B[0m, in \u001B[0;36mpandas._libs.index.IndexEngine.get_loc\u001B[1;34m()\u001B[0m\n",
      "File \u001B[1;32mpandas\\_libs\\hashtable_class_helper.pxi:7080\u001B[0m, in \u001B[0;36mpandas._libs.hashtable.PyObjectHashTable.get_item\u001B[1;34m()\u001B[0m\n",
      "File \u001B[1;32mpandas\\_libs\\hashtable_class_helper.pxi:7088\u001B[0m, in \u001B[0;36mpandas._libs.hashtable.PyObjectHashTable.get_item\u001B[1;34m()\u001B[0m\n",
      "\u001B[1;31mKeyError\u001B[0m: 'Year'",
      "\nThe above exception was the direct cause of the following exception:\n",
      "\u001B[1;31mKeyError\u001B[0m                                  Traceback (most recent call last)",
      "Cell \u001B[1;32mIn[24], line 26\u001B[0m\n\u001B[0;32m     23\u001B[0m         list_of_dataframes[name] \u001B[38;5;241m=\u001B[39m df\n\u001B[0;32m     24\u001B[0m     \u001B[38;5;28;01mreturn\u001B[39;00m list_of_dataframes\n\u001B[1;32m---> 26\u001B[0m lista_health \u001B[38;5;241m=\u001B[39m \u001B[43mread_and_transform_csv\u001B[49m\u001B[43m(\u001B[49m\u001B[43mhealth_file_paths\u001B[49m\u001B[43m)\u001B[49m\n",
      "Cell \u001B[1;32mIn[19], line 7\u001B[0m, in \u001B[0;36mread_and_transform_csv\u001B[1;34m(education_file_paths)\u001B[0m\n\u001B[0;32m      4\u001B[0m name \u001B[38;5;241m=\u001B[39m path\u001B[38;5;241m.\u001B[39msplit(\u001B[38;5;124m'\u001B[39m\u001B[38;5;124m/\u001B[39m\u001B[38;5;124m'\u001B[39m)[\u001B[38;5;241m-\u001B[39m\u001B[38;5;241m1\u001B[39m]\u001B[38;5;241m.\u001B[39msplit(\u001B[38;5;124m'\u001B[39m\u001B[38;5;124m.\u001B[39m\u001B[38;5;124m'\u001B[39m)[\u001B[38;5;241m0\u001B[39m]\n\u001B[0;32m      5\u001B[0m df \u001B[38;5;241m=\u001B[39m pd\u001B[38;5;241m.\u001B[39mread_csv(path)\n\u001B[1;32m----> 7\u001B[0m df[\u001B[38;5;124m'\u001B[39m\u001B[38;5;124mYear\u001B[39m\u001B[38;5;124m'\u001B[39m] \u001B[38;5;241m=\u001B[39m pd\u001B[38;5;241m.\u001B[39mto_numeric(\u001B[43mdf\u001B[49m\u001B[43m[\u001B[49m\u001B[38;5;124;43m'\u001B[39;49m\u001B[38;5;124;43mYear\u001B[39;49m\u001B[38;5;124;43m'\u001B[39;49m\u001B[43m]\u001B[49m, errors\u001B[38;5;241m=\u001B[39m\u001B[38;5;124m'\u001B[39m\u001B[38;5;124mcoerce\u001B[39m\u001B[38;5;124m'\u001B[39m)\n\u001B[0;32m      8\u001B[0m df[\u001B[38;5;124m'\u001B[39m\u001B[38;5;124mValue\u001B[39m\u001B[38;5;124m'\u001B[39m]\u001B[38;5;241m.\u001B[39mfillna(\u001B[38;5;241m0\u001B[39m, inplace\u001B[38;5;241m=\u001B[39m\u001B[38;5;28;01mTrue\u001B[39;00m)\n\u001B[0;32m      9\u001B[0m df[\u001B[38;5;124m'\u001B[39m\u001B[38;5;124mValue\u001B[39m\u001B[38;5;124m'\u001B[39m] \u001B[38;5;241m=\u001B[39m pd\u001B[38;5;241m.\u001B[39mto_numeric(df[\u001B[38;5;124m'\u001B[39m\u001B[38;5;124mValue\u001B[39m\u001B[38;5;124m'\u001B[39m], errors\u001B[38;5;241m=\u001B[39m\u001B[38;5;124m'\u001B[39m\u001B[38;5;124mcoerce\u001B[39m\u001B[38;5;124m'\u001B[39m)\n",
      "File \u001B[1;32m~\\.virtualenvs\\Health_EducationVisualization-jcyNnY_w\\Lib\\site-packages\\pandas\\core\\frame.py:3896\u001B[0m, in \u001B[0;36mDataFrame.__getitem__\u001B[1;34m(self, key)\u001B[0m\n\u001B[0;32m   3894\u001B[0m \u001B[38;5;28;01mif\u001B[39;00m \u001B[38;5;28mself\u001B[39m\u001B[38;5;241m.\u001B[39mcolumns\u001B[38;5;241m.\u001B[39mnlevels \u001B[38;5;241m>\u001B[39m \u001B[38;5;241m1\u001B[39m:\n\u001B[0;32m   3895\u001B[0m     \u001B[38;5;28;01mreturn\u001B[39;00m \u001B[38;5;28mself\u001B[39m\u001B[38;5;241m.\u001B[39m_getitem_multilevel(key)\n\u001B[1;32m-> 3896\u001B[0m indexer \u001B[38;5;241m=\u001B[39m \u001B[38;5;28;43mself\u001B[39;49m\u001B[38;5;241;43m.\u001B[39;49m\u001B[43mcolumns\u001B[49m\u001B[38;5;241;43m.\u001B[39;49m\u001B[43mget_loc\u001B[49m\u001B[43m(\u001B[49m\u001B[43mkey\u001B[49m\u001B[43m)\u001B[49m\n\u001B[0;32m   3897\u001B[0m \u001B[38;5;28;01mif\u001B[39;00m is_integer(indexer):\n\u001B[0;32m   3898\u001B[0m     indexer \u001B[38;5;241m=\u001B[39m [indexer]\n",
      "File \u001B[1;32m~\\.virtualenvs\\Health_EducationVisualization-jcyNnY_w\\Lib\\site-packages\\pandas\\core\\indexes\\base.py:3797\u001B[0m, in \u001B[0;36mIndex.get_loc\u001B[1;34m(self, key)\u001B[0m\n\u001B[0;32m   3792\u001B[0m     \u001B[38;5;28;01mif\u001B[39;00m \u001B[38;5;28misinstance\u001B[39m(casted_key, \u001B[38;5;28mslice\u001B[39m) \u001B[38;5;129;01mor\u001B[39;00m (\n\u001B[0;32m   3793\u001B[0m         \u001B[38;5;28misinstance\u001B[39m(casted_key, abc\u001B[38;5;241m.\u001B[39mIterable)\n\u001B[0;32m   3794\u001B[0m         \u001B[38;5;129;01mand\u001B[39;00m \u001B[38;5;28many\u001B[39m(\u001B[38;5;28misinstance\u001B[39m(x, \u001B[38;5;28mslice\u001B[39m) \u001B[38;5;28;01mfor\u001B[39;00m x \u001B[38;5;129;01min\u001B[39;00m casted_key)\n\u001B[0;32m   3795\u001B[0m     ):\n\u001B[0;32m   3796\u001B[0m         \u001B[38;5;28;01mraise\u001B[39;00m InvalidIndexError(key)\n\u001B[1;32m-> 3797\u001B[0m     \u001B[38;5;28;01mraise\u001B[39;00m \u001B[38;5;167;01mKeyError\u001B[39;00m(key) \u001B[38;5;28;01mfrom\u001B[39;00m \u001B[38;5;21;01merr\u001B[39;00m\n\u001B[0;32m   3798\u001B[0m \u001B[38;5;28;01mexcept\u001B[39;00m \u001B[38;5;167;01mTypeError\u001B[39;00m:\n\u001B[0;32m   3799\u001B[0m     \u001B[38;5;66;03m# If we have a listlike key, _check_indexing_error will raise\u001B[39;00m\n\u001B[0;32m   3800\u001B[0m     \u001B[38;5;66;03m#  InvalidIndexError. Otherwise we fall through and re-raise\u001B[39;00m\n\u001B[0;32m   3801\u001B[0m     \u001B[38;5;66;03m#  the TypeError.\u001B[39;00m\n\u001B[0;32m   3802\u001B[0m     \u001B[38;5;28mself\u001B[39m\u001B[38;5;241m.\u001B[39m_check_indexing_error(key)\n",
      "\u001B[1;31mKeyError\u001B[0m: 'Year'"
     ]
    }
   ],
   "source": [
    "\n",
    "\n",
    "health_file_paths = ['./csv/health/canada.csv', './csv/health/finland.csv', './csv/health/france.csv',\n",
    "              './csv/health/germany.csv', './csv/health/italy.csv', './csv/health/japan.csv',\n",
    "              './csv/health/poland.csv', './csv/health/sweden.csv']\n",
    "\n",
    "dtype = {\n",
    "    'Country Name': str,\n",
    "    'Country ISO3': str,\n",
    "    'Year': str,\n",
    "    'Indicator Name': str,\n",
    "    'Indicator Code': str,\n",
    "    'Value': float\n",
    "}\n",
    "\n",
    "\n",
    "def read_and_transform_health_csv(health_file_paths):\n",
    "    list_of_dataframes = {}\n",
    "    for path in health_file_paths:\n",
    "        name = path.split('/')[-1].split('.')[0]\n",
    "        df = pd.read_csv(path, dtype=dtype, encoding='utf-8', sep=',')\n",
    "        df.dropna(inplace=True)\n",
    "        df.reset_index(drop=True, inplace=True)\n",
    "        list_of_dataframes[name] = df\n",
    "    return list_of_dataframes\n",
    "\n",
    "lista_health = read_and_transform_csv(health_file_paths)"
   ],
   "metadata": {
    "collapsed": false
   }
  },
  {
   "cell_type": "code",
   "execution_count": null,
   "outputs": [],
   "source": [
    "\n",
    "countries = ['australia', 'finland', 'france', 'italy', 'japan', 'korea', 'netherlands', 'poland', 'singapore', 'switerland']\n",
    "\n",
    "age_and_gender_groups = ['BAR.NOED.1519.FE.ZS', 'BAR.NOED.1519.ZS','BAR.NOED.15UP.FE.ZS', 'BAR.NOED.15UP.ZS',\n",
    "              'BAR.NOED.2024.FE.ZS', 'BAR.NOED.2024.ZS',\n",
    "              'BAR.NOED.2529.FE.ZS', 'BAR.NOED.2529.ZS', 'BAR.NOED.25UP.FE.ZS', 'BAR.NOED.25UP.ZS',\n",
    "              'BAR.NOED.3034.FE.ZS', 'BAR.NOED.3034.ZS',\n",
    "              'BAR.NOED.3539.FE.ZS', 'BAR.NOED.3539.ZS',\n",
    "              'BAR.NOED.4044.FE.ZS', 'BAR.NOED.4044.ZS',\n",
    "              'BAR.NOED.4549.FE.ZS', 'BAR.NOED.4549.ZS',\n",
    "              'BAR.NOED.5054.FE.ZS', 'BAR.NOED.5054.ZS',\n",
    "              'BAR.NOED.5559.FE.ZS', 'BAR.NOED.5559.ZS',\n",
    "              'BAR.NOED.6064.FE.ZS', 'BAR.NOED.6064.ZS']\n",
    "\n",
    "indicator_code = 'BAR.NOED.15UP.ZS'\n",
    "\n",
    "plt.figure(figsize=(10, 6))\n",
    "\n",
    "\n",
    "for country in countries:\n",
    "    df_country = lista[country]\n",
    "    df_indicator = df_country[df_country['Indicator Code'] == indicator_code]\n",
    "\n",
    "    plt.plot(df_indicator['Year'], df_indicator['Value'], marker='o', label=country.capitalize())\n",
    "\n",
    "\n",
    "plt.xlabel('Year')\n",
    "plt.ylabel('Uneducated Ratio')\n",
    "plt.title(f'Educational Indicator Comparison for the age of 15 and older')\n",
    "plt.legend()\n",
    "plt.grid(True)\n",
    "plt.show()"
   ],
   "metadata": {
    "collapsed": false
   }
  },
  {
   "cell_type": "code",
   "execution_count": null,
   "outputs": [],
   "source": [
    "selected_country = 'poland'\n",
    "df_poland = lista[selected_country]\n",
    "\n",
    "df_poland_indicator = df_poland[df_poland['Indicator Code'] == indicator_code]\n",
    "\n",
    "plt.figure(figsize=(10, 6))\n",
    "plt.plot(df_poland_indicator['Year'], df_poland_indicator['Value'], marker='o', label='Poland')\n",
    "\n",
    "plt.xlabel('Year')\n",
    "plt.ylabel('Uneducated Ratio')\n",
    "plt.title(f'Educational Indicator Comparison for {selected_country.capitalize()} (age 15 and older)')\n",
    "plt.legend()\n",
    "plt.grid(True)\n",
    "plt.show()"
   ],
   "metadata": {
    "collapsed": false
   }
  },
  {
   "cell_type": "code",
   "execution_count": null,
   "outputs": [],
   "source": [
    "indicator_code_men = 'BAR.NOED.15UP.ZS'\n",
    "indicator_code_women = 'BAR.NOED.15UP.FE.ZS'\n",
    "\n",
    "df_poland_men = df_poland[df_poland['Indicator Code'] == indicator_code_men]\n",
    "df_poland_women = df_poland[df_poland['Indicator Code'] == indicator_code_women]\n",
    "\n",
    "plt.figure(figsize=(10, 6))\n",
    "plt.plot(df_poland_men['Year'], df_poland_men['Value'], marker='o', label='Men', color='b')\n",
    "plt.plot(df_poland_women['Year'], df_poland_women['Value'], marker='o', label='Women', color='r')\n",
    "\n",
    "plt.xlabel('Year')\n",
    "plt.ylabel('Uneducated Ratio')\n",
    "plt.title(f'Educational Indicator Comparison in Poland (age 15 and older) for Men and Women')\n",
    "plt.legend()\n",
    "plt.grid(True)\n",
    "plt.show()\n"
   ],
   "metadata": {
    "collapsed": false
   }
  },
  {
   "cell_type": "code",
   "execution_count": null,
   "outputs": [],
   "source": [
    "selected_countries = ['poland', 'italy', 'france', 'switerland', 'finland', 'netherlands']\n",
    "selected_indicators = ['BAR.NOED.15UP.ZS']\n",
    "\n",
    "data = []\n",
    "\n",
    "for country in selected_countries:\n",
    "    for indicator_code in selected_indicators:\n",
    "        df_country_indicator = lista[country][lista[country]['Indicator Code'] == indicator_code]\n",
    "        data.extend(list(zip(df_country_indicator['Year'].dt.year, [country.capitalize()] * len(df_country_indicator), df_country_indicator['Value'], [indicator_code] * len(df_country_indicator))))\n",
    "\n",
    "df_heatmap = pd.DataFrame(data, columns=['Year', 'Country', 'Value', 'Indicator Code'])\n",
    "\n",
    "plt.figure(figsize=(12, 8))\n",
    "heatmap_data = df_heatmap.pivot_table(index='Country', columns='Year', values='Value', aggfunc='mean')\n",
    "sns.heatmap(heatmap_data, annot=True, fmt=\".1f\", cmap='YlGnBu')\n",
    "plt.title('Educational Indicators Heatmap For Europe')\n",
    "plt.show()"
   ],
   "metadata": {
    "collapsed": false
   }
  },
  {
   "cell_type": "code",
   "execution_count": null,
   "outputs": [],
   "source": [
    "selected_countries = ['poland', 'italy', 'france', 'switerland', 'finland', 'netherlands']\n",
    "selected_indicators = ['BAR.NOED.15UP.ZS']\n",
    "\n",
    "data = []\n",
    "\n",
    "for country in selected_countries:\n",
    "    for indicator_code in selected_indicators:\n",
    "        df_country_indicator = lista[country][lista[country]['Indicator Code'] == indicator_code]\n",
    "        data.extend(list(zip(df_country_indicator['Year'].dt.year, [country.capitalize()] * len(df_country_indicator), df_country_indicator['Value'], [indicator_code] * len(df_country_indicator))))\n",
    "\n",
    "df_stacked_bar_data = pd.DataFrame(data, columns=['Year', 'Country', 'Value', 'Indicator Code'])\n",
    "\n",
    "plt.figure(figsize=(10, 6))\n",
    "sns.barplot(x='Year', y='Value', hue='Country', data=df_stacked_bar_data, estimator=sum, errorbar=None)\n",
    "plt.xlabel('Year')\n",
    "plt.ylabel('Percentage of Population')\n",
    "plt.title('Educational Disparities Stacked Bar Chart')\n",
    "plt.legend(title='Country', bbox_to_anchor=(1, 1))\n",
    "plt.tight_layout()\n",
    "plt.show()\n"
   ],
   "metadata": {
    "collapsed": false
   }
  },
  {
   "cell_type": "code",
   "execution_count": null,
   "outputs": [],
   "source": [],
   "metadata": {
    "collapsed": false
   }
  }
 ],
 "metadata": {
  "kernelspec": {
   "display_name": "Python 3",
   "language": "python",
   "name": "python3"
  },
  "language_info": {
   "codemirror_mode": {
    "name": "ipython",
    "version": 2
   },
   "file_extension": ".py",
   "mimetype": "text/x-python",
   "name": "python",
   "nbconvert_exporter": "python",
   "pygments_lexer": "ipython2",
   "version": "2.7.6"
  }
 },
 "nbformat": 4,
 "nbformat_minor": 0
}
